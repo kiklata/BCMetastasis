{
 "cells": [
  {
   "cell_type": "code",
   "execution_count": null,
   "metadata": {},
   "outputs": [],
   "source": [
    "import os\n",
    "import numpy as np\n",
    "from cnmf import cNMF\n",
    "    \n",
    "np.random.seed(42)"
   ]
  },
  {
   "cell_type": "code",
   "execution_count": null,
   "metadata": {},
   "outputs": [],
   "source": [
    "path = '/home/zhepan/Project/scRNA_BC_metastases/Data/SingleCell/inHouse'\n",
    "site = 'BoM'\n",
    "sample_list = ['BoM1','BoM3']"
   ]
  },
  {
   "cell_type": "code",
   "execution_count": null,
   "metadata": {},
   "outputs": [],
   "source": [
    "#for sample in sample_list:"
   ]
  },
  {
   "cell_type": "code",
   "execution_count": null,
   "metadata": {},
   "outputs": [],
   "source": [
    "numiter=50 # Number of NMF replicates. Set this to a larger value ~200 for real data. We set this to a relatively low value here for illustration at a faster speed\n",
    "numhvgenes=7000 ## Number of over-dispersed genes to use for running the actual factorizations\n",
    "\n",
    "## Results will be saved to [output_directory]/[run_name] which in this example is example_PBMC/cNMF/pbmc_cNMF\n",
    "output_directory = path + '/' + site + '/' + sample\n",
    "run_name = 'cNMF'\n",
    "\n",
    "## Specify the Ks to use as a space separated list in this case \"5 6 7 8 9 10\"\n",
    "K = np.arange(3,10)\n",
    "\n",
    "## To speed this up, you can run it for only K=7-8 with the option below\n",
    "#K = ' '.join([str(i) for i in range(7,9)])\n",
    "run_seed = 42 ## Specify a seed pseudorandom number generation for reproducibility\n",
    "\n",
    "## Path to the filtered counts dataset we output previously\n",
    "countfn = path+ '/' +site+ '/' +sample+ '/' +'count.txt'\n",
    "## Initialize the cnmf object that will be used to run analyses"
   ]
  },
  {
   "cell_type": "code",
   "execution_count": null,
   "metadata": {},
   "outputs": [],
   "source": [
    "cnmf_obj = cNMF(output_dir=output_directory, name=run_name)\n",
    "## Prepare the data, I.e. subset to 2000 high-variance genes, and variance normalize"
   ]
  },
  {
   "cell_type": "code",
   "execution_count": null,
   "metadata": {},
   "outputs": [],
   "source": [
    "cnmf_obj.prepare(counts_fn=countfn, components=K, n_iter=numiter, seed=run_seed, num_highvar_genes=numhvgenes)"
   ]
  },
  {
   "cell_type": "code",
   "execution_count": null,
   "metadata": {},
   "outputs": [],
   "source": [
    "cnmf_obj.factorize_multi_process(2)"
   ]
  },
  {
   "cell_type": "code",
   "execution_count": null,
   "metadata": {},
   "outputs": [],
   "source": [
    "cnmf_obj.combine()"
   ]
  },
  {
   "cell_type": "code",
   "execution_count": null,
   "metadata": {},
   "outputs": [],
   "source": [
    "cnmf_obj.k_selection_plot(close_fig=False)"
   ]
  },
  {
   "cell_type": "code",
   "execution_count": null,
   "metadata": {},
   "outputs": [],
   "source": [
    "density_threshold = 2.00\n",
    "for selected_K in K:\n",
    "    cnmf_obj.consensus(k=selected_K, density_threshold=density_threshold, show_clustering=True, close_clustergram_fig=False)"
   ]
  },
  {
   "cell_type": "code",
   "execution_count": null,
   "metadata": {},
   "outputs": [],
   "source": [
    "cnmf_obj.consensus(k=selected_K, density_threshold=density_threshold, show_clustering=True, close_clustergram_fig=False)density_threshold = 0.02\n",
    "for selected_K in K:\n",
    "    cnmf_obj.consensus(k=selected_K, density_threshold=density_threshold, show_clustering=True, close_clustergram_fig=False)"
   ]
  }
 ],
 "metadata": {
  "kernelspec": {
   "display_name": "cnmf",
   "language": "python",
   "name": "cnmf"
  },
  "language_info": {
   "codemirror_mode": {
    "name": "ipython",
    "version": 3
   },
   "file_extension": ".py",
   "mimetype": "text/x-python",
   "name": "python",
   "nbconvert_exporter": "python",
   "pygments_lexer": "ipython3",
   "version": "3.7.12"
  }
 },
 "nbformat": 4,
 "nbformat_minor": 4
}
